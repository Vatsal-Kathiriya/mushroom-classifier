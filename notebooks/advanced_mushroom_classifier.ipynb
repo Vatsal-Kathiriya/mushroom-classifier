{
 "cells": [
  {
   "cell_type": "markdown",
   "metadata": {},
   "source": [
    "# Advanced Mushroom Classification\n",
    "\n",
    "This notebook explores multiple machine learning models to improve the accuracy of the mushroom classifier."
   ]
  },
  {
   "cell_type": "code",
   "execution_count": 1,
   "metadata": {},
   "outputs": [],
   "source": [
    "# Import libraries\n",
    "import numpy as np\n",
    "import pandas as pd\n",
    "import matplotlib.pyplot as plt\n",
    "import seaborn as sns\n",
    "import joblib\n",
    "\n",
    "from sklearn.preprocessing import StandardScaler, OneHotEncoder, LabelEncoder\n",
    "from sklearn.compose import ColumnTransformer\n",
    "from sklearn.model_selection import train_test_split, GridSearchCV, cross_val_score\n",
    "from sklearn.metrics import accuracy_score, classification_report, confusion_matrix, roc_auc_score\n",
    "from sklearn.feature_selection import SelectKBest, chi2\n",
    "\n",
    "# Models\n",
    "from sklearn.linear_model import LogisticRegression\n",
    "from sklearn.ensemble import RandomForestClassifier, GradientBoostingClassifier\n",
    "from sklearn.svm import SVC\n",
    "from sklearn.neural_network import MLPClassifier\n",
    "from xgboost import XGBClassifier\n",
    "\n",
    "# Configure plots\n",
    "plt.style.use('ggplot')\n",
    "sns.set_theme()\n",
    "%matplotlib inline"
   ]
  },
  {
   "cell_type": "markdown",
   "metadata": {},
   "source": [
    "## 1. Data Loading and Exploration"
   ]
  },
  {
   "cell_type": "code",
   "execution_count": 2,
   "metadata": {},
   "outputs": [
    {
     "name": "stdout",
     "output_type": "stream",
     "text": [
      "Dataset shape: (61069, 21)\n"
     ]
    },
    {
     "data": {
      "application/vnd.microsoft.datawrangler.viewer.v0+json": {
       "columns": [
        {
         "name": "index",
         "rawType": "int64",
         "type": "integer"
        },
        {
         "name": "class",
         "rawType": "object",
         "type": "string"
        },
        {
         "name": "cap-diameter",
         "rawType": "float64",
         "type": "float"
        },
        {
         "name": "cap-shape",
         "rawType": "object",
         "type": "string"
        },
        {
         "name": "cap-surface",
         "rawType": "object",
         "type": "string"
        },
        {
         "name": "cap-color",
         "rawType": "object",
         "type": "string"
        },
        {
         "name": "does-bruise-or-bleed",
         "rawType": "object",
         "type": "string"
        },
        {
         "name": "gill-attachment",
         "rawType": "object",
         "type": "string"
        },
        {
         "name": "gill-spacing",
         "rawType": "object",
         "type": "unknown"
        },
        {
         "name": "gill-color",
         "rawType": "object",
         "type": "string"
        },
        {
         "name": "stem-height",
         "rawType": "float64",
         "type": "float"
        },
        {
         "name": "stem-width",
         "rawType": "float64",
         "type": "float"
        },
        {
         "name": "stem-root",
         "rawType": "object",
         "type": "string"
        },
        {
         "name": "stem-surface",
         "rawType": "object",
         "type": "string"
        },
        {
         "name": "stem-color",
         "rawType": "object",
         "type": "string"
        },
        {
         "name": "veil-type",
         "rawType": "object",
         "type": "string"
        },
        {
         "name": "veil-color",
         "rawType": "object",
         "type": "string"
        },
        {
         "name": "has-ring",
         "rawType": "object",
         "type": "string"
        },
        {
         "name": "ring-type",
         "rawType": "object",
         "type": "string"
        },
        {
         "name": "spore-print-color",
         "rawType": "object",
         "type": "unknown"
        },
        {
         "name": "habitat",
         "rawType": "object",
         "type": "string"
        },
        {
         "name": "season",
         "rawType": "object",
         "type": "string"
        }
       ],
       "conversionMethod": "pd.DataFrame",
       "ref": "e72d5598-5bef-4e9b-97c7-2d84418dd922",
       "rows": [
        [
         "0",
         "p",
         "15.26",
         "x",
         "g",
         "o",
         "f",
         "e",
         null,
         "w",
         "16.95",
         "17.09",
         "s",
         "y",
         "w",
         "u",
         "w",
         "t",
         "g",
         null,
         "d",
         "w"
        ],
        [
         "1",
         "p",
         "16.6",
         "x",
         "g",
         "o",
         "f",
         "e",
         null,
         "w",
         "17.99",
         "18.19",
         "s",
         "y",
         "w",
         "u",
         "w",
         "t",
         "g",
         null,
         "d",
         "u"
        ],
        [
         "2",
         "p",
         "14.07",
         "x",
         "g",
         "o",
         "f",
         "e",
         null,
         "w",
         "17.8",
         "17.74",
         "s",
         "y",
         "w",
         "u",
         "w",
         "t",
         "g",
         null,
         "d",
         "w"
        ],
        [
         "3",
         "p",
         "14.17",
         "f",
         "h",
         "e",
         "f",
         "e",
         null,
         "w",
         "15.77",
         "15.98",
         "s",
         "y",
         "w",
         "u",
         "w",
         "t",
         "p",
         null,
         "d",
         "w"
        ],
        [
         "4",
         "p",
         "14.64",
         "x",
         "h",
         "o",
         "f",
         "e",
         null,
         "w",
         "16.53",
         "17.2",
         "s",
         "y",
         "w",
         "u",
         "w",
         "t",
         "p",
         null,
         "d",
         "w"
        ]
       ],
       "shape": {
        "columns": 21,
        "rows": 5
       }
      },
      "text/html": [
       "<div>\n",
       "<style scoped>\n",
       "    .dataframe tbody tr th:only-of-type {\n",
       "        vertical-align: middle;\n",
       "    }\n",
       "\n",
       "    .dataframe tbody tr th {\n",
       "        vertical-align: top;\n",
       "    }\n",
       "\n",
       "    .dataframe thead th {\n",
       "        text-align: right;\n",
       "    }\n",
       "</style>\n",
       "<table border=\"1\" class=\"dataframe\">\n",
       "  <thead>\n",
       "    <tr style=\"text-align: right;\">\n",
       "      <th></th>\n",
       "      <th>class</th>\n",
       "      <th>cap-diameter</th>\n",
       "      <th>cap-shape</th>\n",
       "      <th>cap-surface</th>\n",
       "      <th>cap-color</th>\n",
       "      <th>does-bruise-or-bleed</th>\n",
       "      <th>gill-attachment</th>\n",
       "      <th>gill-spacing</th>\n",
       "      <th>gill-color</th>\n",
       "      <th>stem-height</th>\n",
       "      <th>...</th>\n",
       "      <th>stem-root</th>\n",
       "      <th>stem-surface</th>\n",
       "      <th>stem-color</th>\n",
       "      <th>veil-type</th>\n",
       "      <th>veil-color</th>\n",
       "      <th>has-ring</th>\n",
       "      <th>ring-type</th>\n",
       "      <th>spore-print-color</th>\n",
       "      <th>habitat</th>\n",
       "      <th>season</th>\n",
       "    </tr>\n",
       "  </thead>\n",
       "  <tbody>\n",
       "    <tr>\n",
       "      <th>0</th>\n",
       "      <td>p</td>\n",
       "      <td>15.26</td>\n",
       "      <td>x</td>\n",
       "      <td>g</td>\n",
       "      <td>o</td>\n",
       "      <td>f</td>\n",
       "      <td>e</td>\n",
       "      <td>NaN</td>\n",
       "      <td>w</td>\n",
       "      <td>16.95</td>\n",
       "      <td>...</td>\n",
       "      <td>s</td>\n",
       "      <td>y</td>\n",
       "      <td>w</td>\n",
       "      <td>u</td>\n",
       "      <td>w</td>\n",
       "      <td>t</td>\n",
       "      <td>g</td>\n",
       "      <td>NaN</td>\n",
       "      <td>d</td>\n",
       "      <td>w</td>\n",
       "    </tr>\n",
       "    <tr>\n",
       "      <th>1</th>\n",
       "      <td>p</td>\n",
       "      <td>16.60</td>\n",
       "      <td>x</td>\n",
       "      <td>g</td>\n",
       "      <td>o</td>\n",
       "      <td>f</td>\n",
       "      <td>e</td>\n",
       "      <td>NaN</td>\n",
       "      <td>w</td>\n",
       "      <td>17.99</td>\n",
       "      <td>...</td>\n",
       "      <td>s</td>\n",
       "      <td>y</td>\n",
       "      <td>w</td>\n",
       "      <td>u</td>\n",
       "      <td>w</td>\n",
       "      <td>t</td>\n",
       "      <td>g</td>\n",
       "      <td>NaN</td>\n",
       "      <td>d</td>\n",
       "      <td>u</td>\n",
       "    </tr>\n",
       "    <tr>\n",
       "      <th>2</th>\n",
       "      <td>p</td>\n",
       "      <td>14.07</td>\n",
       "      <td>x</td>\n",
       "      <td>g</td>\n",
       "      <td>o</td>\n",
       "      <td>f</td>\n",
       "      <td>e</td>\n",
       "      <td>NaN</td>\n",
       "      <td>w</td>\n",
       "      <td>17.80</td>\n",
       "      <td>...</td>\n",
       "      <td>s</td>\n",
       "      <td>y</td>\n",
       "      <td>w</td>\n",
       "      <td>u</td>\n",
       "      <td>w</td>\n",
       "      <td>t</td>\n",
       "      <td>g</td>\n",
       "      <td>NaN</td>\n",
       "      <td>d</td>\n",
       "      <td>w</td>\n",
       "    </tr>\n",
       "    <tr>\n",
       "      <th>3</th>\n",
       "      <td>p</td>\n",
       "      <td>14.17</td>\n",
       "      <td>f</td>\n",
       "      <td>h</td>\n",
       "      <td>e</td>\n",
       "      <td>f</td>\n",
       "      <td>e</td>\n",
       "      <td>NaN</td>\n",
       "      <td>w</td>\n",
       "      <td>15.77</td>\n",
       "      <td>...</td>\n",
       "      <td>s</td>\n",
       "      <td>y</td>\n",
       "      <td>w</td>\n",
       "      <td>u</td>\n",
       "      <td>w</td>\n",
       "      <td>t</td>\n",
       "      <td>p</td>\n",
       "      <td>NaN</td>\n",
       "      <td>d</td>\n",
       "      <td>w</td>\n",
       "    </tr>\n",
       "    <tr>\n",
       "      <th>4</th>\n",
       "      <td>p</td>\n",
       "      <td>14.64</td>\n",
       "      <td>x</td>\n",
       "      <td>h</td>\n",
       "      <td>o</td>\n",
       "      <td>f</td>\n",
       "      <td>e</td>\n",
       "      <td>NaN</td>\n",
       "      <td>w</td>\n",
       "      <td>16.53</td>\n",
       "      <td>...</td>\n",
       "      <td>s</td>\n",
       "      <td>y</td>\n",
       "      <td>w</td>\n",
       "      <td>u</td>\n",
       "      <td>w</td>\n",
       "      <td>t</td>\n",
       "      <td>p</td>\n",
       "      <td>NaN</td>\n",
       "      <td>d</td>\n",
       "      <td>w</td>\n",
       "    </tr>\n",
       "  </tbody>\n",
       "</table>\n",
       "<p>5 rows × 21 columns</p>\n",
       "</div>"
      ],
      "text/plain": [
       "  class  cap-diameter cap-shape cap-surface cap-color does-bruise-or-bleed  \\\n",
       "0     p         15.26         x           g         o                    f   \n",
       "1     p         16.60         x           g         o                    f   \n",
       "2     p         14.07         x           g         o                    f   \n",
       "3     p         14.17         f           h         e                    f   \n",
       "4     p         14.64         x           h         o                    f   \n",
       "\n",
       "  gill-attachment gill-spacing gill-color  stem-height  ...  stem-root  \\\n",
       "0               e          NaN          w        16.95  ...          s   \n",
       "1               e          NaN          w        17.99  ...          s   \n",
       "2               e          NaN          w        17.80  ...          s   \n",
       "3               e          NaN          w        15.77  ...          s   \n",
       "4               e          NaN          w        16.53  ...          s   \n",
       "\n",
       "  stem-surface stem-color veil-type veil-color has-ring ring-type  \\\n",
       "0            y          w         u          w        t         g   \n",
       "1            y          w         u          w        t         g   \n",
       "2            y          w         u          w        t         g   \n",
       "3            y          w         u          w        t         p   \n",
       "4            y          w         u          w        t         p   \n",
       "\n",
       "  spore-print-color habitat season  \n",
       "0               NaN       d      w  \n",
       "1               NaN       d      u  \n",
       "2               NaN       d      w  \n",
       "3               NaN       d      w  \n",
       "4               NaN       d      w  \n",
       "\n",
       "[5 rows x 21 columns]"
      ]
     },
     "execution_count": 2,
     "metadata": {},
     "output_type": "execute_result"
    }
   ],
   "source": [
    "# Load data\n",
    "df = pd.read_csv('../data/secondary_data.csv', delimiter=';')\n",
    "print(f\"Dataset shape: {df.shape}\")\n",
    "df.head()"
   ]
  },
  {
   "cell_type": "code",
   "execution_count": 3,
   "metadata": {},
   "outputs": [
    {
     "name": "stdout",
     "output_type": "stream",
     "text": [
      "Dataset info:\n",
      "<class 'pandas.core.frame.DataFrame'>\n",
      "RangeIndex: 61069 entries, 0 to 61068\n",
      "Data columns (total 21 columns):\n",
      " #   Column                Non-Null Count  Dtype  \n",
      "---  ------                --------------  -----  \n",
      " 0   class                 61069 non-null  object \n",
      " 1   cap-diameter          61069 non-null  float64\n",
      " 2   cap-shape             61069 non-null  object \n",
      " 3   cap-surface           46949 non-null  object \n",
      " 4   cap-color             61069 non-null  object \n",
      " 5   does-bruise-or-bleed  61069 non-null  object \n",
      " 6   gill-attachment       51185 non-null  object \n",
      " 7   gill-spacing          36006 non-null  object \n",
      " 8   gill-color            61069 non-null  object \n",
      " 9   stem-height           61069 non-null  float64\n",
      " 10  stem-width            61069 non-null  float64\n",
      " 11  stem-root             9531 non-null   object \n",
      " 12  stem-surface          22945 non-null  object \n",
      " 13  stem-color            61069 non-null  object \n",
      " 14  veil-type             3177 non-null   object \n",
      " 15  veil-color            7413 non-null   object \n",
      " 16  has-ring              61069 non-null  object \n",
      " 17  ring-type             58598 non-null  object \n",
      " 18  spore-print-color     6354 non-null   object \n",
      " 19  habitat               61069 non-null  object \n",
      " 20  season                61069 non-null  object \n",
      "dtypes: float64(3), object(18)\n",
      "memory usage: 9.8+ MB\n",
      "\n",
      "Class distribution:\n",
      "class\n",
      "p    33888\n",
      "e    27181\n",
      "Name: count, dtype: int64\n",
      "Percentage of edible mushrooms: 44.51%\n",
      "Percentage of poisonous mushrooms: 55.49%\n"
     ]
    }
   ],
   "source": [
    "# Basic info\n",
    "print(\"Dataset info:\")\n",
    "df.info()\n",
    "\n",
    "# Class distribution\n",
    "class_counts = df['class'].value_counts()\n",
    "print(\"\\nClass distribution:\")\n",
    "print(class_counts)\n",
    "print(f\"Percentage of edible mushrooms: {class_counts.get('e', 0)/len(df)*100:.2f}%\")\n",
    "print(f\"Percentage of poisonous mushrooms: {class_counts.get('p', 0)/len(df)*100:.2f}%\")"
   ]
  },
  {
   "cell_type": "code",
   "execution_count": 4,
   "metadata": {},
   "outputs": [
    {
     "name": "stderr",
     "output_type": "stream",
     "text": [
      "C:\\Users\\vatsa\\AppData\\Local\\Temp\\ipykernel_27880\\3738644369.py:3: FutureWarning: \n",
      "\n",
      "Passing `palette` without assigning `hue` is deprecated and will be removed in v0.14.0. Assign the `x` variable to `hue` and set `legend=False` for the same effect.\n",
      "\n",
      "  ax = sns.countplot(x='class', data=df, palette=['#4CAF50', '#F44336'])\n"
     ]
    },
    {
     "data": {
      "image/png": "[encoded data removed]",
      "text/plain": [
       "<Figure size 1000x600 with 1 Axes>"
      ]
     },
     "metadata": {},
     "output_type": "display_data"
    }
   ],
   "source": [
    "# Visualize class distribution\n",
    "plt.figure(figsize=(10, 6))\n",
    "ax = sns.countplot(x='class', data=df, palette=['#4CAF50', '#F44336'])\n",
    "plt.title('Distribution of Edible vs. Poisonous Mushrooms')\n",
    "plt.xlabel('Class')\n",
    "plt.ylabel('Count')\n",
    "plt.xticks([0, 1], ['Edible (e)', 'Poisonous (p)'])\n",
    "\n",
    "# Add count labels\n",
    "for i, count in enumerate(class_counts):\n",
    "    ax.text(i, count + 100, f\"{count} ({count/len(df):.1%})\", \n",
    "            ha='center', va='bottom', fontsize=12)\n",
    "    \n",
    "plt.show()"
   ]
  },
  {
   "cell_type": "markdown",
   "metadata": {},
   "source": [
    "## 2. Feature Analysis and Visualization"
   ]
  },
  {
   "cell_type": "code",
   "execution_count": 5,
   "metadata": {},
   "outputs": [
    {
     "name": "stdout",
     "output_type": "stream",
     "text": [
      "Numerical features (3): cap-diameter, stem-height, stem-width\n",
      "Categorical features (17): cap-shape, cap-surface, cap-color, does-bruise-or-bleed, gill-attachment, gill-spacing, gill-color, stem-root, stem-surface, stem-color, veil-type, veil-color, has-ring, ring-type, spore-print-color, habitat, season\n"
     ]
    }
   ],
   "source": [
    "# Identify numerical and categorical columns\n",
    "numerical_cols = df.select_dtypes(include=['float64', 'int64']).columns.tolist()\n",
    "categorical_cols = df.select_dtypes(include=['object']).columns.drop('class').tolist()\n",
    "\n",
    "print(f\"Numerical features ({len(numerical_cols)}): {', '.join(numerical_cols)}\")\n",
    "print(f\"Categorical features ({len(categorical_cols)}): {', '.join(categorical_cols)}\")"
   ]
  },
  {
   "cell_type": "code",
   "execution_count": null,
   "metadata": {},
   "outputs": [],
   "source": [
    "# Analyze numerical features\n",
    "if numerical_cols:\n",
    "    # Display statistics\n",
    "    print(\"Statistics for numerical features:\")\n",
    "    display(df[numerical_cols].describe())\n",
    "    \n",
    "    # Plot distributions by class\n",
    "    fig, axes = plt.subplots(len(numerical_cols), 1, figsize=(12, 5*len(numerical_cols)))\n",
    "    \n",
    "    if len(numerical_cols) == 1:\n",
    "        axes = [axes]\n",
    "        \n",
    "    for i, col in enumerate(numerical_cols):\n",
    "        sns.histplot(data=df, x=col, hue='class', bins=30, \n",
    "                     palette=['#4CAF50', '#F44336'], kde=True, ax=axes[i])\n",
    "        axes[i].set_title(f'Distribution of {col} by Class')\n",
    "        axes[i].set_xlabel(col)\n",
    "        axes[i].set_ylabel('Count')\n",
    "        axes[i].legend(title='Class', labels=['Edible', 'Poisonous'])\n",
    "    \n",
    "    plt.tight_layout()\n",
    "    plt.show()"
   ]
  },
  {
   "cell_type": "code",
   "execution_count": null,
   "metadata": {},
   "outputs": [],
   "source": [
    "# Visual analysis of important categorical features\n",
    "key_features = ['cap-shape', 'cap-color', 'does-bruise-or-bleed', 'gill-color', 'habitat', 'season']\n",
    "fig, axes = plt.subplots(3, 2, figsize=(18, 15))\n",
    "axes = axes.flatten()\n",
    "\n",
    "for i, feature in enumerate(key_features):\n",
    "    counts = pd.crosstab(df[feature], df['class'])\n",
    "    counts.plot(kind='bar', stacked=True, ax=axes[i], \n",
    "                color=['#4CAF50', '#F44336'], rot=45)\n",
    "    axes[i].set_title(f'Distribution of {feature} vs Class')\n",
    "    axes[i].set_xlabel(feature)\n",
    "    axes[i].set_ylabel('Count')\n",
    "    \n",
    "plt.tight_layout()\n",
    "plt.show()"
   ]
  },
  {
   "cell_type": "code",
   "execution_count": 6,
   "metadata": {},
   "outputs": [
    {
     "data": {
      "image/png": "[encoded data removed]",
      "text/plain": [
       "<Figure size 1000x800 with 2 Axes>"
      ]
     },
     "metadata": {},
     "output_type": "display_data"
    }
   ],
   "source": [
    "# Feature correlation with target\n",
    "# Create numerical encoding of target for correlation analysis\n",
    "df_corr = df.copy()\n",
    "df_corr['class_numeric'] = df_corr['class'].map({'e': 0, 'p': 1})\n",
    "\n",
    "# Combine numerical features with target for correlation\n",
    "if numerical_cols:\n",
    "    corr_data = df_corr[numerical_cols + ['class_numeric']]\n",
    "    \n",
    "    # Calculate correlation matrix\n",
    "    corr_matrix = corr_data.corr()\n",
    "    \n",
    "    # Plot heatmap\n",
    "    plt.figure(figsize=(10, 8))\n",
    "    sns.heatmap(corr_matrix, annot=True, cmap='coolwarm', fmt='.2f')\n",
    "    plt.title('Correlation Heatmap of Numerical Features')\n",
    "    plt.tight_layout()\n",
    "    plt.show()"
   ]
  },
  {
   "cell_type": "markdown",
   "metadata": {},
   "source": [
    "## 3. Data Preprocessing"
   ]
  },
  {
   "cell_type": "code",
   "execution_count": 7,
   "metadata": {},
   "outputs": [
    {
     "name": "stdout",
     "output_type": "stream",
     "text": [
      "Processed data shapes - X_train: (48855, 128), X_test: (12214, 128)\n"
     ]
    }
   ],
   "source": [
    "# Separate features and target\n",
    "X = df.drop('class', axis=1)\n",
    "y = df['class']\n",
    "\n",
    "# Convert target to numeric\n",
    "label_encoder = LabelEncoder()\n",
    "y = label_encoder.fit_transform(y)  # 'e' -> 0, 'p' -> 1\n",
    "\n",
    "# Create preprocessing pipeline\n",
    "preprocessor = ColumnTransformer(\n",
    "    transformers=[\n",
    "        ('num', StandardScaler(), numerical_cols),\n",
    "        ('cat', OneHotEncoder(handle_unknown='ignore'), categorical_cols)\n",
    "    ],\n",
    "    remainder='passthrough'\n",
    ")\n",
    "\n",
    "# Split the data\n",
    "X_train, X_test, y_train, y_test = train_test_split(\n",
    "    X, y, test_size=0.2, random_state=42, stratify=y\n",
    ")\n",
    "\n",
    "# Apply preprocessing\n",
    "X_train_processed = preprocessor.fit_transform(X_train)\n",
    "X_test_processed = preprocessor.transform(X_test)\n",
    "\n",
    "print(f\"Processed data shapes - X_train: {X_train_processed.shape}, X_test: {X_test_processed.shape}\")"
   ]
  },
  {
   "cell_type": "markdown",
   "metadata": {},
   "source": [
    "## 4. Feature Selection"
   ]
  },
  {
   "cell_type": "code",
   "execution_count": 9,
   "metadata": {},
   "outputs": [
    {
     "name": "stdout",
     "output_type": "stream",
     "text": [
      "Selected 30 out of 128 features\n"
     ]
    },
    {
     "data": {
      "image/png": "[encoded data removed]",
      "text/plain": [
       "<Figure size 1200x800 with 1 Axes>"
      ]
     },
     "metadata": {},
     "output_type": "display_data"
    }
   ],
   "source": [
    "from sklearn.feature_selection import f_classif\n",
    "\n",
    "# Get feature names after preprocessing\n",
    "feature_names = []\n",
    "for name, transformer, cols in preprocessor.transformers_:\n",
    "    if hasattr(transformer, 'get_feature_names_out'):\n",
    "        feature_names.extend(transformer.get_feature_names_out(cols))\n",
    "    else:\n",
    "        feature_names.extend(cols)\n",
    "\n",
    "# Use chi-squared test for feature selection\n",
    "k_best = min(30, len(feature_names))\n",
    "feature_selector = SelectKBest(chi2, k=k_best)\n",
    "feature_selector = SelectKBest(f_classif, k=k_best)\n",
    "X_train_selected = feature_selector.fit_transform(X_train_processed, y_train)\n",
    "X_test_selected = feature_selector.transform(X_test_processed)\n",
    "\n",
    "# Get selected feature names\n",
    "selected_indices = feature_selector.get_support(indices=True)\n",
    "selected_features = [feature_names[i] for i in selected_indices]\n",
    "print(f\"Selected {len(selected_features)} out of {len(feature_names)} features\")\n",
    "\n",
    "# Plot top 15 selected features by importance score\n",
    "feature_scores = pd.DataFrame({\n",
    "    'Feature': feature_names,\n",
    "    'Score': feature_selector.scores_\n",
    "})\n",
    "feature_scores = feature_scores.sort_values('Score', ascending=False)\n",
    "\n",
    "plt.figure(figsize=(12, 8))\n",
    "sns.barplot(x='Score', y='Feature', data=feature_scores.head(15))\n",
    "plt.title('Top 15 Features by Chi-Square Score')\n",
    "plt.tight_layout()\n",
    "plt.show()"
   ]
  },
  {
   "cell_type": "markdown",
   "metadata": {},
   "source": [
    "## 5. Model Comparison"
   ]
  },
  {
   "cell_type": "code",
   "execution_count": null,
   "metadata": {},
   "outputs": [
    {
     "name": "stdout",
     "output_type": "stream",
     "text": [
      "Training Logistic Regression...\n",
      "Training Random Forest...\n",
      "Training Gradient Boosting...\n",
      "Training SVM...\n",
      "Training Neural Network...\n"
     ]
    }
   ],
   "source": [
    "# Define models to evaluate\n",
    "models = {\n",
    "    'Logistic Regression': LogisticRegression(max_iter=1000, random_state=42),\n",
    "    'Random Forest': RandomForestClassifier(random_state=42),\n",
    "    'Gradient Boosting': GradientBoostingClassifier(random_state=42),\n",
    "    'SVM': SVC(probability=True, random_state=42),\n",
    "    'Neural Network': MLPClassifier(max_iter=500, random_state=42),\n",
    "    'XGBoost': XGBClassifier(random_state=42)\n",
    "}\n",
    "\n",
    "# Evaluate each model\n",
    "results = []\n",
    "\n",
    "for name, model in models.items():\n",
    "    print(f\"Training {name}...\")\n",
    "    model.fit(X_train_selected, y_train)\n",
    "    \n",
    "    # Evaluate\n",
    "    train_accuracy = model.score(X_train_selected, y_train)\n",
    "    test_accuracy = model.score(X_test_selected, y_test)\n",
    "    \n",
    "    # Cross-validation score\n",
    "    cv_score = np.mean(cross_val_score(model, X_train_selected, y_train, cv=5))\n",
    "    \n",
    "    # ROC AUC \n",
    "    if hasattr(model, 'predict_proba'):\n",
    "        y_pred_proba = model.predict_proba(X_test_selected)[:, 1]\n",
    "        auc = roc_auc_score(y_test, y_pred_proba)\n",
    "    else:\n",
    "        auc = float('nan')\n",
    "    \n",
    "    results.append({\n",
    "        'Model': name,\n",
    "        'Train Accuracy': train_accuracy,\n",
    "        'Test Accuracy': test_accuracy,\n",
    "        'CV Score': cv_score,\n",
    "        'ROC AUC': auc\n",
    "    })\n",
    "    \n",
    "results_df = pd.DataFrame(results)\n",
    "display(results_df.sort_values('Test Accuracy', ascending=False))"
   ]
  },
  {
   "cell_type": "code",
   "execution_count": null,
   "metadata": {},
   "outputs": [],
   "source": [
    "# Visualize model comparison\n",
    "plt.figure(figsize=(14, 8))\n",
    "\n",
    "x = np.arange(len(results_df))\n",
    "width = 0.2\n",
    "\n",
    "plt.bar(x - width*1.5, results_df['Train Accuracy'], width, label='Train Accuracy')\n",
    "plt.bar(x - width/2, results_df['Test Accuracy'], width, label='Test Accuracy')\n",
    "plt.bar(x + width/2, results_df['CV Score'], width, label='CV Score')\n",
    "plt.bar(x + width*1.5, results_df['ROC AUC'], width, label='ROC AUC')\n",
    "\n",
    "plt.xlabel('Model')\n",
    "plt.ylabel('Score')\n",
    "plt.title('Model Performance Comparison')\n",
    "plt.xticks(x, results_df['Model'], rotation=45)\n",
    "plt.legend()\n",
    "plt.ylim(0.9, 1.01)  # Adjust to focus on high accuracy region\n",
    "plt.grid(axis='y', linestyle='--', alpha=0.7)\n",
    "plt.tight_layout()\n",
    "plt.show()"
   ]
  },
  {
   "cell_type": "markdown",
   "metadata": {},
   "source": [
    "## 6. Best Model Optimization"
   ]
  },
  {
   "cell_type": "code",
   "execution_count": null,
   "metadata": {},
   "outputs": [],
   "source": [
    "# Based on results, we'll optimize the best performing model\n",
    "# For this example, let's assume Random Forest performed best\n",
    "\n",
    "best_model = RandomForestClassifier(random_state=42)\n",
    "\n",
    "# Define parameter grid\n",
    "param_grid = {\n",
    "    'n_estimators': [100, 200, 300],\n",
    "    'max_depth': [None, 10, 20, 30],\n",
    "    'min_samples_split': [2, 5, 10],\n",
    "    'min_samples_leaf': [1, 2, 4]\n",
    "}\n",
    "\n",
    "# Grid Search\n",
    "print(\"Performing grid search (this may take a while)...\")\n",
    "grid_search = GridSearchCV(\n",
    "    best_model, param_grid, cv=3, scoring='accuracy', n_jobs=-1\n",
    ")\n",
    "grid_search.fit(X_train_selected, y_train)\n",
    "\n",
    "# Best parameters\n",
    "print(\"Best parameters:\")\n",
    "print(grid_search.best_params_)\n",
    "\n",
    "# Final model\n",
    "final_model = grid_search.best_estimator_\n",
    "final_accuracy = final_model.score(X_test_selected, y_test)\n",
    "print(f\"Final model accuracy: {final_accuracy:.4f}\")"
   ]
  },
  {
   "cell_type": "code",
   "execution_count": null,
   "metadata": {},
   "outputs": [],
   "source": [
    "# Evaluate final model\n",
    "y_pred = final_model.predict(X_test_selected)\n",
    "y_pred_proba = final_model.predict_proba(X_test_selected)[:, 1]\n",
    "\n",
    "# Classification report\n",
    "print(\"Classification report:\")\n",
    "print(classification_report(y_test, y_pred, target_names=['Edible', 'Poisonous']))\n",
    "\n",
    "# Confusion matrix\n",
    "cm = confusion_matrix(y_test, y_pred)\n",
    "plt.figure(figsize=(8, 6))\n",
    "sns.heatmap(cm, annot=True, fmt='d', cmap='Blues',\n",
    "           xticklabels=['Edible', 'Poisonous'],\n",
    "           yticklabels=['Edible', 'Poisonous'])\n",
    "plt.xlabel('Predicted')\n",
    "plt.ylabel('True')\n",
    "plt.title('Confusion Matrix')\n",
    "plt.show()"
   ]
  },
  {
   "cell_type": "code",
   "execution_count": null,
   "metadata": {},
   "outputs": [],
   "source": [
    "# If using Random Forest, plot feature importance\n",
    "if hasattr(final_model, 'feature_importances_'):\n",
    "    # Get feature importances\n",
    "    importances = final_model.feature_importances_\n",
    "    indices = np.argsort(importances)[::-1]\n",
    "    \n",
    "    # Plot top 15 features\n",
    "    plt.figure(figsize=(12, 8))\n",
    "    plt.title('Feature Importances')\n",
    "    plt.bar(range(15), importances[indices[:15]], align='center')\n",
    "    plt.xticks(range(15), [selected_features[i] for i in indices[:15]], rotation=90)\n",
    "    plt.tight_layout()\n",
    "    plt.show()"
   ]
  },
  {
   "cell_type": "markdown",
   "metadata": {},
   "source": [
    "## 7. Save the Final Model"
   ]
  },
  {
   "cell_type": "code",
   "execution_count": null,
   "metadata": {},
   "outputs": [],
   "source": [
    "# Save preprocessor and model\n",
    "import os\n",
    "\n",
    "# Create models directory if it doesn't exist\n",
    "os.makedirs('../models', exist_ok=True)\n",
    "\n",
    "# Save preprocessor\n",
    "joblib.dump(preprocessor, '../models/advanced_preprocessor.pkl')\n",
    "# Save feature selector\n",
    "joblib.dump(feature_selector, '../models/feature_selector.pkl')\n",
    "# Save the model\n",
    "joblib.dump(final_model, '../models/advanced_model.pkl')\n",
    "\n",
    "print(\"Saved preprocessor and model to models/ directory\")"
   ]
  },
  {
   "cell_type": "code",
   "execution_count": null,
   "metadata": {},
   "outputs": [],
   "source": [
    "# Save feature map for web app\n",
    "feature_map = {}\n",
    "    \n",
    "# Skip the class column\n",
    "for col in df.columns:\n",
    "    if col == 'class':\n",
    "        continue\n",
    "            \n",
    "    # Determine feature type\n",
    "    if df[col].dtype == 'object':\n",
    "        feature_type = 'categorical'\n",
    "        possible_values = df[col].unique().tolist()\n",
    "        # Remove any NaN values\n",
    "        possible_values = [val for val in possible_values if val == val]\n",
    "    else:\n",
    "        feature_type = 'numerical'\n",
    "        possible_values = [float(df[col].min()), float(df[col].max())]\n",
    "            \n",
    "    feature_map[col] = {\n",
    "        'type': feature_type,\n",
    "        'values': possible_values\n",
    "    }\n",
    "\n",
    "# Save feature map\n",
    "joblib.dump(feature_map, '../models/advanced_feature_map.pkl')\n",
    "print(\"Saved feature map for web app integration\")"
   ]
  },
  {
   "cell_type": "markdown",
   "metadata": {},
   "source": [
    "## 8. Conclusion\n",
    "\n",
    "In this notebook, we've created an advanced mushroom classifier with the following steps:\n",
    "\n",
    "1. Performed detailed exploratory data analysis\n",
    "2. Applied preprocessing to handle numerical and categorical features\n",
    "3. Used feature selection to focus on the most important attributes\n",
    "4. Compared multiple machine learning models\n",
    "5. Optimized the best model using grid search\n",
    "6. Evaluated the final model's performance\n",
    "7. Saved the model and related components for web app integration\n",
    "\n",
    "The final model achieves [insert final accuracy]% accuracy, which is an improvement over the baseline logistic regression model.\n",
    "\n",
    "For web app integration, update `app.py` to load the new model files:"
   ]
  },
  {
   "cell_type": "code",
   "execution_count": null,
   "metadata": {},
   "outputs": [],
   "source": [
    "# Code to update the app.py file to use the new model\n",
    "print('''\n",
    "# In app.py, change the model loading code to:\n",
    "\n",
    "try:\n",
    "    model = joblib.load('models/advanced_model.pkl')\n",
    "    preprocessor = joblib.load('models/advanced_preprocessor.pkl')\n",
    "    feature_selector = joblib.load('models/feature_selector.pkl')\n",
    "    feature_map = joblib.load('models/advanced_feature_map.pkl')\n",
    "    print(\"Advanced model loaded successfully!\")\n",
    "except FileNotFoundError:\n",
    "    print(\"Warning: Advanced model files not found. Falling back to basic model.\")\n",
    "    try:\n",
    "        model = joblib.load('models/refined_mushroom_model.pkl')\n",
    "        preprocessor = joblib.load('models/preprocessor.pkl')\n",
    "        feature_map = joblib.load('models/feature_map.pkl')\n",
    "        feature_selector = None\n",
    "        print(\"Basic model loaded successfully!\")\n",
    "    except FileNotFoundError:\n",
    "        print(\"Warning: No model files found. Run training first.\")\n",
    "        model = None\n",
    "        preprocessor = None\n",
    "        feature_map = None\n",
    "        feature_selector = None\n",
    "\n",
    "# And update the prediction function to use feature selection:\n",
    "def predict(input_df):\n",
    "    # Transform input data with preprocessor\n",
    "    input_processed = preprocessor.transform(input_df)\n",
    "    \n",
    "    # Apply feature selection if available\n",
    "    if feature_selector is not None:\n",
    "        input_processed = feature_selector.transform(input_processed)\n",
    "    \n",
    "    # Make prediction\n",
    "    return model.predict(input_processed), model.predict_proba(input_processed)\n",
    "''')"
   ]
  }
 ],
 "metadata": {
  "kernelspec": {
   "display_name": "Python 3",
   "language": "python",
   "name": "python3"
  },
  "language_info": {
   "codemirror_mode": {
    "name": "ipython",
    "version": 3
   },
   "file_extension": ".py",
   "mimetype": "text/x-python",
   "name": "python",
   "nbconvert_exporter": "python",
   "pygments_lexer": "ipython3",
   "version": "3.12.3"
  }
 },
 "nbformat": 4,
 "nbformat_minor": 5
}
